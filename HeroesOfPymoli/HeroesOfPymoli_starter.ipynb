{
 "cells": [
  {
   "cell_type": "markdown",
   "metadata": {},
   "source": [
    "### Note\n",
    "* Instructions have been included for each segment. You do not have to follow them exactly, but they are included to help you think through the steps."
   ]
  },
  {
   "cell_type": "code",
   "execution_count": 21,
   "metadata": {},
   "outputs": [],
   "source": [
    "# Dependencies and Setup\n",
    "import pandas as pd\n",
    "\n",
    "# File to Load (Remember to Change These)\n",
    "file_to_load = \"Resources/purchase_data.csv\"\n",
    "\n",
    "# Read Purchasing File and store into Pandas data frame\n",
    "purchase_data = pd.read_csv(file_to_load)"
   ]
  },
  {
   "cell_type": "markdown",
   "metadata": {},
   "source": [
    "## Player Count"
   ]
  },
  {
   "cell_type": "markdown",
   "metadata": {},
   "source": [
    "* Display the total number of players\n"
   ]
  },
  {
   "cell_type": "code",
   "execution_count": 22,
   "metadata": {},
   "outputs": [
    {
     "data": {
      "text/plain": [
       "576"
      ]
     },
     "execution_count": 22,
     "metadata": {},
     "output_type": "execute_result"
    }
   ],
   "source": [
    "total_players = purchase_data[\"SN\"].value_counts()\n",
    "len(total_players)"
   ]
  },
  {
   "cell_type": "code",
   "execution_count": 23,
   "metadata": {},
   "outputs": [
    {
     "data": {
      "text/html": [
       "<div>\n",
       "<style scoped>\n",
       "    .dataframe tbody tr th:only-of-type {\n",
       "        vertical-align: middle;\n",
       "    }\n",
       "\n",
       "    .dataframe tbody tr th {\n",
       "        vertical-align: top;\n",
       "    }\n",
       "\n",
       "    .dataframe thead th {\n",
       "        text-align: right;\n",
       "    }\n",
       "</style>\n",
       "<table border=\"1\" class=\"dataframe\">\n",
       "  <thead>\n",
       "    <tr style=\"text-align: right;\">\n",
       "      <th></th>\n",
       "      <th>Total Players</th>\n",
       "    </tr>\n",
       "  </thead>\n",
       "  <tbody>\n",
       "    <tr>\n",
       "      <th>0</th>\n",
       "      <td>576</td>\n",
       "    </tr>\n",
       "  </tbody>\n",
       "</table>\n",
       "</div>"
      ],
      "text/plain": [
       "   Total Players\n",
       "0            576"
      ]
     },
     "execution_count": 23,
     "metadata": {},
     "output_type": "execute_result"
    }
   ],
   "source": [
    "data_frame = pd.DataFrame({\"Total Players\": [len(total_players)]})\n",
    "data_frame"
   ]
  },
  {
   "cell_type": "markdown",
   "metadata": {},
   "source": [
    "## Purchasing Analysis (Total)"
   ]
  },
  {
   "cell_type": "markdown",
   "metadata": {},
   "source": [
    "* Run basic calculations to obtain number of unique items, average price, etc.\n",
    "\n",
    "\n",
    "* Create a summary data frame to hold the results\n",
    "\n",
    "\n",
    "* Optional: give the displayed data cleaner formatting\n",
    "\n",
    "\n",
    "* Display the summary data frame\n"
   ]
  },
  {
   "cell_type": "code",
   "execution_count": 24,
   "metadata": {
    "scrolled": true
   },
   "outputs": [
    {
     "data": {
      "text/html": [
       "<div>\n",
       "<style scoped>\n",
       "    .dataframe tbody tr th:only-of-type {\n",
       "        vertical-align: middle;\n",
       "    }\n",
       "\n",
       "    .dataframe tbody tr th {\n",
       "        vertical-align: top;\n",
       "    }\n",
       "\n",
       "    .dataframe thead th {\n",
       "        text-align: right;\n",
       "    }\n",
       "</style>\n",
       "<table border=\"1\" class=\"dataframe\">\n",
       "  <thead>\n",
       "    <tr style=\"text-align: right;\">\n",
       "      <th></th>\n",
       "      <th>Number of Unique Items</th>\n",
       "      <th>Average Price</th>\n",
       "      <th>Number of Purchases</th>\n",
       "      <th>Total Revenue</th>\n",
       "    </tr>\n",
       "  </thead>\n",
       "  <tbody>\n",
       "    <tr>\n",
       "      <th>0</th>\n",
       "      <td>179</td>\n",
       "      <td>3.050987</td>\n",
       "      <td>780</td>\n",
       "      <td>2379.77</td>\n",
       "    </tr>\n",
       "  </tbody>\n",
       "</table>\n",
       "</div>"
      ],
      "text/plain": [
       "   Number of Unique Items  Average Price  Number of Purchases  Total Revenue\n",
       "0                     179       3.050987                  780        2379.77"
      ]
     },
     "execution_count": 24,
     "metadata": {},
     "output_type": "execute_result"
    }
   ],
   "source": [
    "unique_items = purchase_data[\"Item Name\"].unique()\n",
    "number_of_unique_items = len(unique_items)\n",
    "\n",
    "average_price = purchase_data[\"Price\"].mean()\n",
    "number_purchase = purchase_data[\"Purchase ID\"].count()\n",
    "total_revenue = purchase_data[\"Price\"].sum()\n",
    "\n",
    "data_frame = pd.DataFrame({\"Number of Unique Items\": [number_of_unique_items],\n",
    "                           \"Average Price\": [average_price],\n",
    "                           \"Number of Purchases\": [number_purchase],\n",
    "                           \"Total Revenue\": [total_revenue]\n",
    "                         \n",
    "                          })\n",
    "data_frame"
   ]
  },
  {
   "cell_type": "markdown",
   "metadata": {},
   "source": [
    "## Gender Demographics"
   ]
  },
  {
   "cell_type": "markdown",
   "metadata": {},
   "source": [
    "* Percentage and Count of Male Players\n",
    "\n",
    "\n",
    "* Percentage and Count of Female Players\n",
    "\n",
    "\n",
    "* Percentage and Count of Other / Non-Disclosed\n",
    "\n",
    "\n"
   ]
  },
  {
   "cell_type": "code",
   "execution_count": 25,
   "metadata": {},
   "outputs": [
    {
     "data": {
      "text/html": [
       "<style  type=\"text/css\" >\n",
       "</style><table id=\"T_83b8e66e_01e5_11eb_9cba_40ec99acdd42\" ><thead>    <tr>        <th class=\"blank level0\" ></th>        <th class=\"col_heading level0 col0\" >Total Count</th>        <th class=\"col_heading level0 col1\" >Percentage of Players</th>    </tr>    <tr>        <th class=\"index_name level0\" >Gender</th>        <th class=\"blank\" ></th>        <th class=\"blank\" ></th>    </tr></thead><tbody>\n",
       "                <tr>\n",
       "                        <th id=\"T_83b8e66e_01e5_11eb_9cba_40ec99acdd42level0_row0\" class=\"row_heading level0 row0\" >Female</th>\n",
       "                        <td id=\"T_83b8e66e_01e5_11eb_9cba_40ec99acdd42row0_col0\" class=\"data row0 col0\" >81</td>\n",
       "                        <td id=\"T_83b8e66e_01e5_11eb_9cba_40ec99acdd42row0_col1\" class=\"data row0 col1\" >14.06%</td>\n",
       "            </tr>\n",
       "            <tr>\n",
       "                        <th id=\"T_83b8e66e_01e5_11eb_9cba_40ec99acdd42level0_row1\" class=\"row_heading level0 row1\" >Male</th>\n",
       "                        <td id=\"T_83b8e66e_01e5_11eb_9cba_40ec99acdd42row1_col0\" class=\"data row1 col0\" >484</td>\n",
       "                        <td id=\"T_83b8e66e_01e5_11eb_9cba_40ec99acdd42row1_col1\" class=\"data row1 col1\" >84.03%</td>\n",
       "            </tr>\n",
       "            <tr>\n",
       "                        <th id=\"T_83b8e66e_01e5_11eb_9cba_40ec99acdd42level0_row2\" class=\"row_heading level0 row2\" >Other / Non-Disclosed</th>\n",
       "                        <td id=\"T_83b8e66e_01e5_11eb_9cba_40ec99acdd42row2_col0\" class=\"data row2 col0\" >11</td>\n",
       "                        <td id=\"T_83b8e66e_01e5_11eb_9cba_40ec99acdd42row2_col1\" class=\"data row2 col1\" >1.91%</td>\n",
       "            </tr>\n",
       "    </tbody></table>"
      ],
      "text/plain": [
       "<pandas.io.formats.style.Styler at 0x1d14a029d68>"
      ]
     },
     "execution_count": 25,
     "metadata": {},
     "output_type": "execute_result"
    }
   ],
   "source": [
    "nodup_df = purchase_data.loc[: , [\"Gender\", \"SN\", \"Age\"]].drop_duplicates()\n",
    "nodup_df\n",
    "\n",
    "gender_df = nodup_df.groupby(\"Gender\").count()[\"SN\"]\n",
    "gender_df\n",
    "\n",
    "gender_totals = nodup_df[\"Gender\"].count()\n",
    "gender_totals\n",
    "\n",
    "dem_per = (gender_df / gender_totals) * 100\n",
    "dem_per\n",
    "\n",
    "genderstats_df = pd.DataFrame({\"Total Count\": gender_df, \n",
    "                              \"Percentage of Players\": dem_per})\n",
    "genderstats_df\n",
    "genderstats_df.style.format({\"Percentage of Players\" : \"{:,.2f}%\"})"
   ]
  },
  {
   "cell_type": "markdown",
   "metadata": {},
   "source": [
    "\n",
    "## Purchasing Analysis (Gender)"
   ]
  },
  {
   "cell_type": "markdown",
   "metadata": {},
   "source": [
    "* Run basic calculations to obtain purchase count, avg. purchase price, avg. purchase total per person etc. by gender\n",
    "\n",
    "\n",
    "\n",
    "\n",
    "* Create a summary data frame to hold the results\n",
    "\n",
    "\n",
    "* Optional: give the displayed data cleaner formatting\n",
    "\n",
    "\n",
    "* Display the summary data frame"
   ]
  },
  {
   "cell_type": "code",
   "execution_count": 26,
   "metadata": {},
   "outputs": [
    {
     "data": {
      "text/html": [
       "<style  type=\"text/css\" >\n",
       "</style><table id=\"T_8528b354_01e5_11eb_ba71_40ec99acdd42\" ><thead>    <tr>        <th class=\"blank level0\" ></th>        <th class=\"col_heading level0 col0\" >Purchase Count</th>        <th class=\"col_heading level0 col1\" >Average Purchase Price</th>        <th class=\"col_heading level0 col2\" >Total Purchase Value</th>        <th class=\"col_heading level0 col3\" >Avg Total Purchase per Person</th>    </tr>    <tr>        <th class=\"index_name level0\" >Gender</th>        <th class=\"blank\" ></th>        <th class=\"blank\" ></th>        <th class=\"blank\" ></th>        <th class=\"blank\" ></th>    </tr></thead><tbody>\n",
       "                <tr>\n",
       "                        <th id=\"T_8528b354_01e5_11eb_ba71_40ec99acdd42level0_row0\" class=\"row_heading level0 row0\" >Female</th>\n",
       "                        <td id=\"T_8528b354_01e5_11eb_ba71_40ec99acdd42row0_col0\" class=\"data row0 col0\" >113</td>\n",
       "                        <td id=\"T_8528b354_01e5_11eb_ba71_40ec99acdd42row0_col1\" class=\"data row0 col1\" >$3.20</td>\n",
       "                        <td id=\"T_8528b354_01e5_11eb_ba71_40ec99acdd42row0_col2\" class=\"data row0 col2\" >$361.94</td>\n",
       "                        <td id=\"T_8528b354_01e5_11eb_ba71_40ec99acdd42row0_col3\" class=\"data row0 col3\" >$4.47</td>\n",
       "            </tr>\n",
       "            <tr>\n",
       "                        <th id=\"T_8528b354_01e5_11eb_ba71_40ec99acdd42level0_row1\" class=\"row_heading level0 row1\" >Male</th>\n",
       "                        <td id=\"T_8528b354_01e5_11eb_ba71_40ec99acdd42row1_col0\" class=\"data row1 col0\" >652</td>\n",
       "                        <td id=\"T_8528b354_01e5_11eb_ba71_40ec99acdd42row1_col1\" class=\"data row1 col1\" >$3.02</td>\n",
       "                        <td id=\"T_8528b354_01e5_11eb_ba71_40ec99acdd42row1_col2\" class=\"data row1 col2\" >$1,967.64</td>\n",
       "                        <td id=\"T_8528b354_01e5_11eb_ba71_40ec99acdd42row1_col3\" class=\"data row1 col3\" >$4.07</td>\n",
       "            </tr>\n",
       "            <tr>\n",
       "                        <th id=\"T_8528b354_01e5_11eb_ba71_40ec99acdd42level0_row2\" class=\"row_heading level0 row2\" >Other / Non-Disclosed</th>\n",
       "                        <td id=\"T_8528b354_01e5_11eb_ba71_40ec99acdd42row2_col0\" class=\"data row2 col0\" >15</td>\n",
       "                        <td id=\"T_8528b354_01e5_11eb_ba71_40ec99acdd42row2_col1\" class=\"data row2 col1\" >$3.35</td>\n",
       "                        <td id=\"T_8528b354_01e5_11eb_ba71_40ec99acdd42row2_col2\" class=\"data row2 col2\" >$50.19</td>\n",
       "                        <td id=\"T_8528b354_01e5_11eb_ba71_40ec99acdd42row2_col3\" class=\"data row2 col3\" >$4.56</td>\n",
       "            </tr>\n",
       "    </tbody></table>"
      ],
      "text/plain": [
       "<pandas.io.formats.style.Styler at 0x1d14b18de80>"
      ]
     },
     "execution_count": 26,
     "metadata": {},
     "output_type": "execute_result"
    }
   ],
   "source": [
    "purchase_gender = purchase_data.groupby(\"Gender\").count()[\"SN\"]\n",
    "purchase_gender\n",
    "\n",
    "spending_count = purchase_data.groupby(\"Gender\").sum()[\"Price\"]\n",
    "spending_count\n",
    "\n",
    "avg_purch = purchase_data.groupby(\"Gender\").mean()[\"Price\"]\n",
    "avg_purch\n",
    "\n",
    "total_purch = spending_count / gender_df\n",
    "total_purch\n",
    "\n",
    "gender_analysis_df = pd.DataFrame({\"Purchase Count\": purchase_gender,\n",
    "                                   \"Average Purchase Price\": avg_purch,\n",
    "                                   \"Total Purchase Value\": spending_count,\n",
    "                                   \"Avg Total Purchase per Person\": total_purch\n",
    "                                   })\n",
    "gender_analysis_df\n",
    "\n",
    "gender_analysis_df.style.format({\"Average Purchase Price\": \"${:,.2f}\",\n",
    "                                 \"Total Purchase Value\": \"${:,.2f}\",\n",
    "                                 \"Avg Total Purchase per Person\": \"${:,.2f}\"})"
   ]
  },
  {
   "cell_type": "markdown",
   "metadata": {},
   "source": [
    "## Age Demographics"
   ]
  },
  {
   "cell_type": "markdown",
   "metadata": {},
   "source": [
    "* Establish bins for ages\n",
    "\n",
    "\n",
    "* Categorize the existing players using the age bins. Hint: use pd.cut()\n",
    "\n",
    "\n",
    "* Calculate the numbers and percentages by age group\n",
    "\n",
    "\n",
    "* Create a summary data frame to hold the results\n",
    "\n",
    "\n",
    "* Optional: round the percentage column to two decimal points\n",
    "\n",
    "\n",
    "* Display Age Demographics Table\n"
   ]
  },
  {
   "cell_type": "code",
   "execution_count": 55,
   "metadata": {},
   "outputs": [
    {
     "ename": "TypeError",
     "evalue": "max expected 1 arguments, got 0",
     "output_type": "error",
     "traceback": [
      "\u001b[1;31m---------------------------------------------------------------------------\u001b[0m",
      "\u001b[1;31mTypeError\u001b[0m                                 Traceback (most recent call last)",
      "\u001b[1;32m<ipython-input-55-5304d0a952b5>\u001b[0m in \u001b[0;36m<module>\u001b[1;34m\u001b[0m\n\u001b[1;32m----> 1\u001b[1;33m \u001b[0mbins\u001b[0m \u001b[1;33m=\u001b[0m \u001b[1;33m[\u001b[0m\u001b[1;36m0\u001b[0m\u001b[1;33m,\u001b[0m \u001b[1;36m9\u001b[0m\u001b[1;33m,\u001b[0m \u001b[1;36m14\u001b[0m\u001b[1;33m,\u001b[0m \u001b[1;36m19\u001b[0m\u001b[1;33m,\u001b[0m \u001b[1;36m24\u001b[0m\u001b[1;33m,\u001b[0m \u001b[1;36m29\u001b[0m\u001b[1;33m,\u001b[0m \u001b[1;36m34\u001b[0m\u001b[1;33m,\u001b[0m \u001b[1;36m39\u001b[0m\u001b[1;33m,\u001b[0m\u001b[1;33m(\u001b[0m\u001b[0mpurchase_data\u001b[0m\u001b[1;33m[\u001b[0m\u001b[1;34m\"Age\"\u001b[0m\u001b[1;33m]\u001b[0m\u001b[1;33m,\u001b[0m\u001b[0mmax\u001b[0m\u001b[1;33m(\u001b[0m\u001b[1;33m)\u001b[0m\u001b[1;33m)\u001b[0m\u001b[1;33m]\u001b[0m\u001b[1;33m\u001b[0m\u001b[1;33m\u001b[0m\u001b[0m\n\u001b[0m\u001b[0;32m      2\u001b[0m \u001b[0mlabels\u001b[0m \u001b[1;33m=\u001b[0m \u001b[1;33m[\u001b[0m\u001b[1;34m'<10'\u001b[0m\u001b[1;33m,\u001b[0m \u001b[1;34m'10-14'\u001b[0m\u001b[1;33m,\u001b[0m \u001b[1;34m'15-19'\u001b[0m\u001b[1;33m,\u001b[0m \u001b[1;34m'20-24'\u001b[0m\u001b[1;33m,\u001b[0m \u001b[1;34m'25-29'\u001b[0m\u001b[1;33m,\u001b[0m \u001b[1;34m'30-34'\u001b[0m\u001b[1;33m,\u001b[0m \u001b[1;34m'35-39'\u001b[0m\u001b[1;33m,\u001b[0m \u001b[1;34m'40+'\u001b[0m\u001b[1;33m]\u001b[0m\u001b[1;33m\u001b[0m\u001b[1;33m\u001b[0m\u001b[0m\n\u001b[0;32m      3\u001b[0m \u001b[1;33m\u001b[0m\u001b[0m\n\u001b[0;32m      4\u001b[0m \u001b[0mpd\u001b[0m\u001b[1;33m.\u001b[0m\u001b[0mcut\u001b[0m\u001b[1;33m(\u001b[0m\u001b[0mpurchase_data\u001b[0m\u001b[1;33m[\u001b[0m\u001b[1;34m\"Age\"\u001b[0m\u001b[1;33m]\u001b[0m\u001b[1;33m,\u001b[0m \u001b[0mbins\u001b[0m\u001b[1;33m,\u001b[0m \u001b[0mlabels\u001b[0m\u001b[1;33m)\u001b[0m\u001b[1;33m.\u001b[0m\u001b[0mhead\u001b[0m\u001b[1;33m(\u001b[0m\u001b[1;33m)\u001b[0m\u001b[1;33m\u001b[0m\u001b[1;33m\u001b[0m\u001b[0m\n\u001b[0;32m      5\u001b[0m \u001b[0mpurchase_data\u001b[0m\u001b[1;33m[\u001b[0m\u001b[1;34m\"Age Group\"\u001b[0m\u001b[1;33m]\u001b[0m \u001b[1;33m=\u001b[0m \u001b[0mpd\u001b[0m\u001b[1;33m.\u001b[0m\u001b[0mcut\u001b[0m\u001b[1;33m(\u001b[0m\u001b[0mpurchase_data\u001b[0m\u001b[1;33m[\u001b[0m\u001b[1;34m\"Age\"\u001b[0m\u001b[1;33m]\u001b[0m\u001b[1;33m,\u001b[0m \u001b[0mbins\u001b[0m\u001b[1;33m,\u001b[0m \u001b[0mlabels\u001b[0m\u001b[1;33m=\u001b[0m\u001b[0mlabels\u001b[0m\u001b[1;33m)\u001b[0m\u001b[1;33m\u001b[0m\u001b[1;33m\u001b[0m\u001b[0m\n",
      "\u001b[1;31mTypeError\u001b[0m: max expected 1 arguments, got 0"
     ]
    }
   ],
   "source": [
    "bins = [0, 9, 14, 19, 24, 29, 34, 39,(purchase_data[\"Age\"],max())]\n",
    "labels = ['<10', '10-14', '15-19', '20-24', '25-29', '30-34', '35-39', '40+']\n",
    "\n",
    "pd.cut(purchase_data[\"Age\"], bins, labels).head()\n",
    "purchase_data[\"Age Group\"] = pd.cut(purchase_data[\"Age\"], bins, labels=labels)\n",
    "ages_demo = purchase_data.drop_duplicates(subset=[\"SN\"], keep=\"first\")\n",
    "\n",
    "ages_demo.head()"
   ]
  },
  {
   "cell_type": "markdown",
   "metadata": {},
   "source": [
    "## Purchasing Analysis (Age)"
   ]
  },
  {
   "cell_type": "markdown",
   "metadata": {},
   "source": [
    "* Bin the purchase_data data frame by age\n",
    "\n",
    "\n",
    "* Run basic calculations to obtain purchase count, avg. purchase price, avg. purchase total per person etc. in the table below\n",
    "\n",
    "\n",
    "* Create a summary data frame to hold the results\n",
    "\n",
    "\n",
    "* Optional: give the displayed data cleaner formatting\n",
    "\n",
    "\n",
    "* Display the summary data frame"
   ]
  },
  {
   "cell_type": "code",
   "execution_count": 54,
   "metadata": {},
   "outputs": [
    {
     "ename": "TypeError",
     "evalue": "max expected 1 arguments, got 0",
     "output_type": "error",
     "traceback": [
      "\u001b[1;31m---------------------------------------------------------------------------\u001b[0m",
      "\u001b[1;31mTypeError\u001b[0m                                 Traceback (most recent call last)",
      "\u001b[1;32m<ipython-input-54-a08416e6be9a>\u001b[0m in \u001b[0;36m<module>\u001b[1;34m\u001b[0m\n\u001b[1;32m----> 1\u001b[1;33m \u001b[0mage_bins\u001b[0m \u001b[1;33m=\u001b[0m \u001b[1;33m[\u001b[0m\u001b[1;36m0\u001b[0m\u001b[1;33m,\u001b[0m \u001b[1;36m9\u001b[0m\u001b[1;33m,\u001b[0m \u001b[1;36m14\u001b[0m\u001b[1;33m,\u001b[0m \u001b[1;36m19\u001b[0m\u001b[1;33m,\u001b[0m \u001b[1;36m24\u001b[0m\u001b[1;33m,\u001b[0m \u001b[1;36m29\u001b[0m\u001b[1;33m,\u001b[0m \u001b[1;36m34\u001b[0m\u001b[1;33m,\u001b[0m \u001b[1;36m39\u001b[0m\u001b[1;33m,\u001b[0m\u001b[1;33m(\u001b[0m\u001b[0mpurchase_data\u001b[0m\u001b[1;33m[\u001b[0m\u001b[1;34m\"Age\"\u001b[0m\u001b[1;33m]\u001b[0m\u001b[1;33m,\u001b[0m\u001b[0mmax\u001b[0m\u001b[1;33m(\u001b[0m\u001b[1;33m)\u001b[0m\u001b[1;33m)\u001b[0m\u001b[1;33m]\u001b[0m\u001b[1;33m\u001b[0m\u001b[1;33m\u001b[0m\u001b[0m\n\u001b[0m\u001b[0;32m      2\u001b[0m \u001b[0mgroup_labels\u001b[0m \u001b[1;33m=\u001b[0m \u001b[1;33m[\u001b[0m\u001b[1;34m\"<10\"\u001b[0m\u001b[1;33m,\u001b[0m \u001b[1;34m\"10-14\"\u001b[0m\u001b[1;33m,\u001b[0m \u001b[1;34m\"15-19\"\u001b[0m\u001b[1;33m,\u001b[0m \u001b[1;34m\"20-24\"\u001b[0m\u001b[1;33m,\u001b[0m \u001b[1;34m\"25-29\"\u001b[0m\u001b[1;33m,\u001b[0m \u001b[1;34m\"30-34\"\u001b[0m\u001b[1;33m,\u001b[0m \u001b[1;34m\"35-39\"\u001b[0m\u001b[1;33m,\u001b[0m \u001b[1;34m\"40+\"\u001b[0m\u001b[1;33m]\u001b[0m\u001b[1;33m\u001b[0m\u001b[1;33m\u001b[0m\u001b[0m\n\u001b[0;32m      3\u001b[0m \u001b[1;33m\u001b[0m\u001b[0m\n\u001b[0;32m      4\u001b[0m \u001b[0mage_range\u001b[0m \u001b[1;33m=\u001b[0m \u001b[0mpd\u001b[0m\u001b[1;33m.\u001b[0m\u001b[0mcut\u001b[0m\u001b[1;33m(\u001b[0m\u001b[0mpurchase_data\u001b[0m\u001b[1;33m[\u001b[0m\u001b[1;34m\"Age\"\u001b[0m\u001b[1;33m]\u001b[0m\u001b[1;33m,\u001b[0m \u001b[1;36m8\u001b[0m\u001b[1;33m,\u001b[0m \u001b[0mlabels\u001b[0m\u001b[1;33m=\u001b[0m \u001b[0mage_bins\u001b[0m\u001b[1;33m)\u001b[0m\u001b[1;33m\u001b[0m\u001b[1;33m\u001b[0m\u001b[0m\n\u001b[0;32m      5\u001b[0m \u001b[1;33m\u001b[0m\u001b[0m\n",
      "\u001b[1;31mTypeError\u001b[0m: max expected 1 arguments, got 0"
     ]
    }
   ],
   "source": [
    "age_bins = [0, 9, 14, 19, 24, 29, 34, 39,(purchase_data[\"Age\"],max())]\n",
    "group_labels = [\"<10\", \"10-14\", \"15-19\", \"20-24\", \"25-29\", \"30-34\", \"35-39\", \"40+\"]\n",
    "\n",
    "age_range = pd.cut(purchase_data[\"Age\"], 8, labels= age_bins)\n",
    "               \n",
    "age_groups = purchase_data.groupby[\"Age\"].count()\n",
    "purchase_count = age_groups.count()[\"Price\"]\n",
    "avg_count = age_groups.mean()[\"Price\"]\n",
    "total_value = age_groups.sum()[\"Price\"]\n",
    "per_person_avg = total_value / purchase_count\n",
    "\n",
    "age_demo1 = pd.DataFrame({\"Purchase Count\": purchase_count,\n",
    "                                  \"Average Purchase Price\": avg_count,\n",
    "                                  \"Total Purchase Value\": total_value,\n",
    "                                  \"Avg Total Purchase per Person\": per_person_avg})\n",
    "\n",
    "age_demo1.style.format({\"Average Purchase Price\": \"${:,.2f}\", \"Total Purchase Value\": \"${:,.2f}\", \"Avg Total Purchase per Person\": \"${:,.2f}\"})"
   ]
  },
  {
   "cell_type": "markdown",
   "metadata": {},
   "source": [
    "## Top Spenders"
   ]
  },
  {
   "cell_type": "markdown",
   "metadata": {},
   "source": [
    "* Run basic calculations to obtain the results in the table below\n",
    "\n",
    "\n",
    "* Create a summary data frame to hold the results\n",
    "\n",
    "\n",
    "* Sort the total purchase value column in descending order\n",
    "\n",
    "\n",
    "* Optional: give the displayed data cleaner formatting\n",
    "\n",
    "\n",
    "* Display a preview of the summary data frame\n",
    "\n"
   ]
  },
  {
   "cell_type": "code",
   "execution_count": 40,
   "metadata": {},
   "outputs": [
    {
     "data": {
      "text/html": [
       "<div>\n",
       "<style scoped>\n",
       "    .dataframe tbody tr th:only-of-type {\n",
       "        vertical-align: middle;\n",
       "    }\n",
       "\n",
       "    .dataframe tbody tr th {\n",
       "        vertical-align: top;\n",
       "    }\n",
       "\n",
       "    .dataframe thead th {\n",
       "        text-align: right;\n",
       "    }\n",
       "</style>\n",
       "<table border=\"1\" class=\"dataframe\">\n",
       "  <thead>\n",
       "    <tr style=\"text-align: right;\">\n",
       "      <th></th>\n",
       "      <th>Purchase Count</th>\n",
       "      <th>Average Purchase Price</th>\n",
       "      <th>Total Purchase Value</th>\n",
       "    </tr>\n",
       "    <tr>\n",
       "      <th>SN</th>\n",
       "      <th></th>\n",
       "      <th></th>\n",
       "      <th></th>\n",
       "    </tr>\n",
       "  </thead>\n",
       "  <tbody>\n",
       "    <tr>\n",
       "      <th>Adairialis76</th>\n",
       "      <td>2.28</td>\n",
       "      <td>2.28</td>\n",
       "      <td>2.28</td>\n",
       "    </tr>\n",
       "    <tr>\n",
       "      <th>Adastirin33</th>\n",
       "      <td>4.48</td>\n",
       "      <td>4.48</td>\n",
       "      <td>4.48</td>\n",
       "    </tr>\n",
       "    <tr>\n",
       "      <th>Aeda94</th>\n",
       "      <td>4.91</td>\n",
       "      <td>4.91</td>\n",
       "      <td>4.91</td>\n",
       "    </tr>\n",
       "    <tr>\n",
       "      <th>Aela59</th>\n",
       "      <td>4.32</td>\n",
       "      <td>4.32</td>\n",
       "      <td>4.32</td>\n",
       "    </tr>\n",
       "    <tr>\n",
       "      <th>Aelaria33</th>\n",
       "      <td>1.79</td>\n",
       "      <td>1.79</td>\n",
       "      <td>1.79</td>\n",
       "    </tr>\n",
       "  </tbody>\n",
       "</table>\n",
       "</div>"
      ],
      "text/plain": [
       "              Purchase Count  Average Purchase Price  Total Purchase Value\n",
       "SN                                                                        \n",
       "Adairialis76            2.28                    2.28                  2.28\n",
       "Adastirin33             4.48                    4.48                  4.48\n",
       "Aeda94                  4.91                    4.91                  4.91\n",
       "Aela59                  4.32                    4.32                  4.32\n",
       "Aelaria33               1.79                    1.79                  1.79"
      ]
     },
     "execution_count": 40,
     "metadata": {},
     "output_type": "execute_result"
    }
   ],
   "source": [
    "top_spenders = purchase_data.groupby(\"SN\").count()[\"Price\"]\n",
    "top_spenders\n",
    "\n",
    "purchase_count = purchase_data.groupby(\"SN\").sum()[\"Price\"]\n",
    "purchase_count\n",
    "\n",
    "avg_count = purchase_data.groupby(\"SN\").mean()[\"Price\"]\n",
    "avg_count\n",
    "\n",
    "total_value = purchase_count / top_spenders\n",
    "total_value\n",
    "\n",
    "top_analysis_df = pd.DataFrame({\"Purchase Count\": purchase_count,\n",
    "                                   \"Average Purchase Price\": avg_count,\n",
    "                                   \"Total Purchase Value\": total_value})\n",
    "top_analysis_df\n",
    "\n",
    "top_analysis_df.style.format({\"Average Purchase Price\": \"${:,.2f}\",\n",
    "                                 \"Total Purchase Value\": \"${:,.2f}\"})\n",
    "top_analysis_df.head()"
   ]
  },
  {
   "cell_type": "markdown",
   "metadata": {},
   "source": [
    "## Most Popular Items"
   ]
  },
  {
   "cell_type": "markdown",
   "metadata": {},
   "source": [
    "* Retrieve the Item ID, Item Name, and Item Price columns\n",
    "\n",
    "\n",
    "* Group by Item ID and Item Name. Perform calculations to obtain purchase count, average item price, and total purchase value\n",
    "\n",
    "\n",
    "* Create a summary data frame to hold the results\n",
    "\n",
    "\n",
    "* Sort the purchase count column in descending order\n",
    "\n",
    "\n",
    "* Optional: give the displayed data cleaner formatting\n",
    "\n",
    "\n",
    "* Display a preview of the summary data frame\n",
    "\n"
   ]
  },
  {
   "cell_type": "code",
   "execution_count": 62,
   "metadata": {},
   "outputs": [
    {
     "data": {
      "text/html": [
       "<style  type=\"text/css\" >\n",
       "</style><table id=\"T_7b3ff37a_01ec_11eb_ac03_40ec99acdd42\" ><thead>    <tr>        <th class=\"blank\" ></th>        <th class=\"blank level0\" ></th>        <th class=\"col_heading level0 col0\" >Purchase Count</th>        <th class=\"col_heading level0 col1\" >Item Price</th>        <th class=\"col_heading level0 col2\" >Total Purchase Value</th>    </tr>    <tr>        <th class=\"index_name level0\" >Item ID</th>        <th class=\"index_name level1\" >Item Name</th>        <th class=\"blank\" ></th>        <th class=\"blank\" ></th>        <th class=\"blank\" ></th>    </tr></thead><tbody>\n",
       "                <tr>\n",
       "                        <th id=\"T_7b3ff37a_01ec_11eb_ac03_40ec99acdd42level0_row0\" class=\"row_heading level0 row0\" >92</th>\n",
       "                        <th id=\"T_7b3ff37a_01ec_11eb_ac03_40ec99acdd42level1_row0\" class=\"row_heading level1 row0\" >Final Critic</th>\n",
       "                        <td id=\"T_7b3ff37a_01ec_11eb_ac03_40ec99acdd42row0_col0\" class=\"data row0 col0\" >13</td>\n",
       "                        <td id=\"T_7b3ff37a_01ec_11eb_ac03_40ec99acdd42row0_col1\" class=\"data row0 col1\" >$4.61</td>\n",
       "                        <td id=\"T_7b3ff37a_01ec_11eb_ac03_40ec99acdd42row0_col2\" class=\"data row0 col2\" >$59.99</td>\n",
       "            </tr>\n",
       "            <tr>\n",
       "                        <th id=\"T_7b3ff37a_01ec_11eb_ac03_40ec99acdd42level0_row1\" class=\"row_heading level0 row1\" >178</th>\n",
       "                        <th id=\"T_7b3ff37a_01ec_11eb_ac03_40ec99acdd42level1_row1\" class=\"row_heading level1 row1\" >Oathbreaker, Last Hope of the Breaking Storm</th>\n",
       "                        <td id=\"T_7b3ff37a_01ec_11eb_ac03_40ec99acdd42row1_col0\" class=\"data row1 col0\" >12</td>\n",
       "                        <td id=\"T_7b3ff37a_01ec_11eb_ac03_40ec99acdd42row1_col1\" class=\"data row1 col1\" >$4.23</td>\n",
       "                        <td id=\"T_7b3ff37a_01ec_11eb_ac03_40ec99acdd42row1_col2\" class=\"data row1 col2\" >$50.76</td>\n",
       "            </tr>\n",
       "            <tr>\n",
       "                        <th id=\"T_7b3ff37a_01ec_11eb_ac03_40ec99acdd42level0_row2\" class=\"row_heading level0 row2\" >108</th>\n",
       "                        <th id=\"T_7b3ff37a_01ec_11eb_ac03_40ec99acdd42level1_row2\" class=\"row_heading level1 row2\" >Extraction, Quickblade Of Trembling Hands</th>\n",
       "                        <td id=\"T_7b3ff37a_01ec_11eb_ac03_40ec99acdd42row2_col0\" class=\"data row2 col0\" >9</td>\n",
       "                        <td id=\"T_7b3ff37a_01ec_11eb_ac03_40ec99acdd42row2_col1\" class=\"data row2 col1\" >$3.53</td>\n",
       "                        <td id=\"T_7b3ff37a_01ec_11eb_ac03_40ec99acdd42row2_col2\" class=\"data row2 col2\" >$31.77</td>\n",
       "            </tr>\n",
       "            <tr>\n",
       "                        <th id=\"T_7b3ff37a_01ec_11eb_ac03_40ec99acdd42level0_row3\" class=\"row_heading level0 row3\" >82</th>\n",
       "                        <th id=\"T_7b3ff37a_01ec_11eb_ac03_40ec99acdd42level1_row3\" class=\"row_heading level1 row3\" >Nirvana</th>\n",
       "                        <td id=\"T_7b3ff37a_01ec_11eb_ac03_40ec99acdd42row3_col0\" class=\"data row3 col0\" >9</td>\n",
       "                        <td id=\"T_7b3ff37a_01ec_11eb_ac03_40ec99acdd42row3_col1\" class=\"data row3 col1\" >$4.90</td>\n",
       "                        <td id=\"T_7b3ff37a_01ec_11eb_ac03_40ec99acdd42row3_col2\" class=\"data row3 col2\" >$44.10</td>\n",
       "            </tr>\n",
       "            <tr>\n",
       "                        <th id=\"T_7b3ff37a_01ec_11eb_ac03_40ec99acdd42level0_row4\" class=\"row_heading level0 row4\" >145</th>\n",
       "                        <th id=\"T_7b3ff37a_01ec_11eb_ac03_40ec99acdd42level1_row4\" class=\"row_heading level1 row4\" >Fiery Glass Crusader</th>\n",
       "                        <td id=\"T_7b3ff37a_01ec_11eb_ac03_40ec99acdd42row4_col0\" class=\"data row4 col0\" >9</td>\n",
       "                        <td id=\"T_7b3ff37a_01ec_11eb_ac03_40ec99acdd42row4_col1\" class=\"data row4 col1\" >$4.58</td>\n",
       "                        <td id=\"T_7b3ff37a_01ec_11eb_ac03_40ec99acdd42row4_col2\" class=\"data row4 col2\" >$41.22</td>\n",
       "            </tr>\n",
       "    </tbody></table>"
      ],
      "text/plain": [
       "<pandas.io.formats.style.Styler at 0x1d14a07b470>"
      ]
     },
     "execution_count": 62,
     "metadata": {},
     "output_type": "execute_result"
    }
   ],
   "source": [
    "group1 = purchase_data.groupby(\"Item Name\").sum().reset_index()\n",
    "group2 = purchase_data.groupby(\"Item ID\").sum().reset_index()\n",
    "group3 = purchase_data.groupby(\"Item Name\").count().reset_index()\n",
    "\n",
    "group_df1 = pd.merge(group1, group2, on=\"Price\")\n",
    "group_df2 = pd.merge(group3, group_df1, on=\"Item Name\")\n",
    "\n",
    "group_df2[\"Gender\"] = (group_df2[\"Price_y\"]/group_df2[\"Item ID\"])\n",
    "\n",
    "group_df2_renamed = group_df2.rename(columns={\"Age\": \"Purchase Count\", \"Gender\": \"Item Price\", \"Item ID\": \"null\", \"Price_y\": \"Total Purchase Value\", \"Item ID_y\": \"Item ID\"})\n",
    "\n",
    "final_df = group_df2_renamed[[\"Item ID\", \"Item Name\", \"Purchase Count\", \"Item Price\", \"Total Purchase Value\"]]\n",
    "\n",
    "dataframe = final_df.set_index([\"Item ID\",\"Item Name\"])\n",
    "popular_items = df2.sort_values(\"Purchase Count\", ascending=False).head()\n",
    "popular_items.style.format({\"Item Price\": \"${:.2f}\", \"Total Purchase Value\": \"${:.2f}\"})"
   ]
  },
  {
   "cell_type": "markdown",
   "metadata": {},
   "source": [
    "## Most Profitable Items"
   ]
  },
  {
   "cell_type": "markdown",
   "metadata": {},
   "source": [
    "* Sort the above table by total purchase value in descending order\n",
    "\n",
    "\n",
    "* Optional: give the displayed data cleaner formatting\n",
    "\n",
    "\n",
    "* Display a preview of the data frame\n",
    "\n"
   ]
  },
  {
   "cell_type": "code",
   "execution_count": 61,
   "metadata": {
    "scrolled": true
   },
   "outputs": [
    {
     "data": {
      "text/html": [
       "<style  type=\"text/css\" >\n",
       "</style><table id=\"T_689741ee_01ec_11eb_a71b_40ec99acdd42\" ><thead>    <tr>        <th class=\"blank\" ></th>        <th class=\"blank level0\" ></th>        <th class=\"col_heading level0 col0\" >Purchase Count</th>        <th class=\"col_heading level0 col1\" >Item Price</th>        <th class=\"col_heading level0 col2\" >Total Purchase Value</th>    </tr>    <tr>        <th class=\"index_name level0\" >Item ID</th>        <th class=\"index_name level1\" >Item Name</th>        <th class=\"blank\" ></th>        <th class=\"blank\" ></th>        <th class=\"blank\" ></th>    </tr></thead><tbody>\n",
       "                <tr>\n",
       "                        <th id=\"T_689741ee_01ec_11eb_a71b_40ec99acdd42level0_row0\" class=\"row_heading level0 row0\" >92</th>\n",
       "                        <th id=\"T_689741ee_01ec_11eb_a71b_40ec99acdd42level1_row0\" class=\"row_heading level1 row0\" >Final Critic</th>\n",
       "                        <td id=\"T_689741ee_01ec_11eb_a71b_40ec99acdd42row0_col0\" class=\"data row0 col0\" >13</td>\n",
       "                        <td id=\"T_689741ee_01ec_11eb_a71b_40ec99acdd42row0_col1\" class=\"data row0 col1\" >$4.61</td>\n",
       "                        <td id=\"T_689741ee_01ec_11eb_a71b_40ec99acdd42row0_col2\" class=\"data row0 col2\" >$59.99</td>\n",
       "            </tr>\n",
       "            <tr>\n",
       "                        <th id=\"T_689741ee_01ec_11eb_a71b_40ec99acdd42level0_row1\" class=\"row_heading level0 row1\" >178</th>\n",
       "                        <th id=\"T_689741ee_01ec_11eb_a71b_40ec99acdd42level1_row1\" class=\"row_heading level1 row1\" >Oathbreaker, Last Hope of the Breaking Storm</th>\n",
       "                        <td id=\"T_689741ee_01ec_11eb_a71b_40ec99acdd42row1_col0\" class=\"data row1 col0\" >12</td>\n",
       "                        <td id=\"T_689741ee_01ec_11eb_a71b_40ec99acdd42row1_col1\" class=\"data row1 col1\" >$4.23</td>\n",
       "                        <td id=\"T_689741ee_01ec_11eb_a71b_40ec99acdd42row1_col2\" class=\"data row1 col2\" >$50.76</td>\n",
       "            </tr>\n",
       "            <tr>\n",
       "                        <th id=\"T_689741ee_01ec_11eb_a71b_40ec99acdd42level0_row2\" class=\"row_heading level0 row2\" >82</th>\n",
       "                        <th id=\"T_689741ee_01ec_11eb_a71b_40ec99acdd42level1_row2\" class=\"row_heading level1 row2\" >Nirvana</th>\n",
       "                        <td id=\"T_689741ee_01ec_11eb_a71b_40ec99acdd42row2_col0\" class=\"data row2 col0\" >9</td>\n",
       "                        <td id=\"T_689741ee_01ec_11eb_a71b_40ec99acdd42row2_col1\" class=\"data row2 col1\" >$4.90</td>\n",
       "                        <td id=\"T_689741ee_01ec_11eb_a71b_40ec99acdd42row2_col2\" class=\"data row2 col2\" >$44.10</td>\n",
       "            </tr>\n",
       "            <tr>\n",
       "                        <th id=\"T_689741ee_01ec_11eb_a71b_40ec99acdd42level0_row3\" class=\"row_heading level0 row3\" >145</th>\n",
       "                        <th id=\"T_689741ee_01ec_11eb_a71b_40ec99acdd42level1_row3\" class=\"row_heading level1 row3\" >Fiery Glass Crusader</th>\n",
       "                        <td id=\"T_689741ee_01ec_11eb_a71b_40ec99acdd42row3_col0\" class=\"data row3 col0\" >9</td>\n",
       "                        <td id=\"T_689741ee_01ec_11eb_a71b_40ec99acdd42row3_col1\" class=\"data row3 col1\" >$4.58</td>\n",
       "                        <td id=\"T_689741ee_01ec_11eb_a71b_40ec99acdd42row3_col2\" class=\"data row3 col2\" >$41.22</td>\n",
       "            </tr>\n",
       "            <tr>\n",
       "                        <th id=\"T_689741ee_01ec_11eb_a71b_40ec99acdd42level0_row4\" class=\"row_heading level0 row4\" >103</th>\n",
       "                        <th id=\"T_689741ee_01ec_11eb_a71b_40ec99acdd42level1_row4\" class=\"row_heading level1 row4\" >Singed Scalpel</th>\n",
       "                        <td id=\"T_689741ee_01ec_11eb_a71b_40ec99acdd42row4_col0\" class=\"data row4 col0\" >8</td>\n",
       "                        <td id=\"T_689741ee_01ec_11eb_a71b_40ec99acdd42row4_col1\" class=\"data row4 col1\" >$4.35</td>\n",
       "                        <td id=\"T_689741ee_01ec_11eb_a71b_40ec99acdd42row4_col2\" class=\"data row4 col2\" >$34.80</td>\n",
       "            </tr>\n",
       "    </tbody></table>"
      ],
      "text/plain": [
       "<pandas.io.formats.style.Styler at 0x1d14b1dd358>"
      ]
     },
     "execution_count": 61,
     "metadata": {},
     "output_type": "execute_result"
    }
   ],
   "source": [
    "profitable_items = df2.sort_values(\"Total Purchase Value\", ascending=False).head()\n",
    "profitable_items.style.format({\"Item Price\": \"${:.2f}\", \"Total Purchase Value\": \"${:.2f}\"})"
   ]
  },
  {
   "cell_type": "code",
   "execution_count": null,
   "metadata": {},
   "outputs": [],
   "source": []
  }
 ],
 "metadata": {
  "anaconda-cloud": {},
  "kernel_info": {
   "name": "python3"
  },
  "kernelspec": {
   "display_name": "Python 3",
   "language": "python",
   "name": "python3"
  },
  "language_info": {
   "codemirror_mode": {
    "name": "ipython",
    "version": 3
   },
   "file_extension": ".py",
   "mimetype": "text/x-python",
   "name": "python",
   "nbconvert_exporter": "python",
   "pygments_lexer": "ipython3",
   "version": "3.6.10"
  },
  "latex_envs": {
   "LaTeX_envs_menu_present": true,
   "autoclose": false,
   "autocomplete": true,
   "bibliofile": "biblio.bib",
   "cite_by": "apalike",
   "current_citInitial": 1,
   "eqLabelWithNumbers": true,
   "eqNumInitial": 1,
   "hotkeys": {
    "equation": "Ctrl-E",
    "itemize": "Ctrl-I"
   },
   "labels_anchors": false,
   "latex_user_defs": false,
   "report_style_numbering": false,
   "user_envs_cfg": false
  },
  "nteract": {
   "version": "0.2.0"
  }
 },
 "nbformat": 4,
 "nbformat_minor": 2
}
